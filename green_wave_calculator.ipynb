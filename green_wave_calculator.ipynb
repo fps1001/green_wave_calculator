{
 "cells": [
  {
   "cell_type": "markdown",
   "id": "feebbe5d",
   "metadata": {},
   "source": [
    "## Calculadora de ondas verdes para coordinación semafórica."
   ]
  },
  {
   "cell_type": "code",
   "execution_count": null,
   "id": "fb189a3d",
   "metadata": {},
   "outputs": [],
   "source": [
    "import matplotlib.pyplot as plt\n",
    "import numpy as np\n",
    "from typing import List, Tuple, Dict"
   ]
  },
  {
   "cell_type": "markdown",
   "id": "c3b93044",
   "metadata": {},
   "source": [
    "### Definición de ruta. Marco de prueba."
   ]
  },
  {
   "cell_type": "code",
   "execution_count": null,
   "id": "55221f60",
   "metadata": {},
   "outputs": [],
   "source": [
    "cruces = {\n",
    "    508: {\n",
    "        0: {\n",
    "            \"grupo\": 1,\n",
    "            \"distancia\": 0,\n",
    "            \"fijado\": False,\n",
    "            \"ciclos\": {\n",
    "                85: {\n",
    "                    \"desfase_original\": 44,\n",
    "                    \"desfase_buscado\": None,\n",
    "                    \"verde\": [(0, 22), (83, 85)]\n",
    "                },\n",
    "                100: {\n",
    "                    \"desfase_original\": 46,\n",
    "                    \"desfase_buscado\": None,\n",
    "                    \"verde\": [(0, 27), (97, 100)]\n",
    "                },\n",
    "                120: {\n",
    "                    \"desfase_original\": 52,\n",
    "                    \"desfase_buscado\": None,\n",
    "                    \"verde\": [(0, 35), (118, 120)]\n",
    "                }\n",
    "            }\n",
    "        },\n",
    "        1: {\n",
    "            \"grupo\": 3,\n",
    "            \"distancia\": 46,\n",
    "            \"fijado\": False,\n",
    "            \"ciclos\": {\n",
    "                85: {\n",
    "                    \"desfase_original\": 44,\n",
    "                    \"desfase_buscado\": None,\n",
    "                    \"verde\": [(0, 22), (83, 85)]\n",
    "                },\n",
    "                100: {\n",
    "                    \"desfase_original\": 46,\n",
    "                    \"desfase_buscado\": None,\n",
    "                    \"verde\": [(0, 27), (97, 100)]\n",
    "                },\n",
    "                120: {\n",
    "                    \"desfase_original\": 52,\n",
    "                    \"desfase_buscado\": None,\n",
    "                    \"verde\": [(0, 35), (118, 120)]\n",
    "                }\n",
    "            }\n",
    "        }\n",
    "    },\n",
    "    515: {\n",
    "        0: {\n",
    "            \"grupo\": 4,\n",
    "            \"distancia\": 124,\n",
    "            \"fijado\": True,\n",
    "            \"ciclos\": {\n",
    "                85: {\n",
    "                    \"desfase_original\": 67,\n",
    "                    \"desfase_buscado\": None,\n",
    "                    \"verde\": [(0, 35), (83, 85)]\n",
    "                },\n",
    "                100: {\n",
    "                    \"desfase_original\": 69,\n",
    "                    \"desfase_buscado\": None,\n",
    "                    \"verde\": [(0, 39), (97, 100)]\n",
    "                },\n",
    "                120: {\n",
    "                    \"desfase_original\": 74,\n",
    "                    \"desfase_buscado\": None,\n",
    "                    \"verde\": [(0, 45), (118, 120)]\n",
    "                }\n",
    "            }\n",
    "        },\n",
    "        1: {\n",
    "            \"grupo\": 1,\n",
    "            \"distancia\": 182,\n",
    "            \"fijado\": True,\n",
    "            \"ciclos\": {\n",
    "                85: {\n",
    "                    \"desfase_original\": 67,\n",
    "                    \"desfase_buscado\": None,\n",
    "                    \"verde\": [(0, 35), (83, 85)]\n",
    "                },\n",
    "                100: {\n",
    "                    \"desfase_original\": 69,\n",
    "                    \"desfase_buscado\": None,\n",
    "                    \"verde\": [(0, 39), (97, 100)]\n",
    "                },\n",
    "                120: {\n",
    "                    \"desfase_original\": 74,\n",
    "                    \"desfase_buscado\": None,\n",
    "                    \"verde\": [(0, 45), (118, 120)]\n",
    "                }\n",
    "            }\n",
    "        }\n",
    "    }\n",
    "}\n",
    "velocidad_directo = 40  # km/h\n",
    "velocidad_inverso = 30  # km/h"
   ]
  },
  {
   "cell_type": "markdown",
   "id": "69d65a9e",
   "metadata": {},
   "source": [
    "## Función de maximización de onda verde."
   ]
  },
  {
   "cell_type": "code",
   "execution_count": null,
   "id": "f1338906",
   "metadata": {},
   "outputs": [],
   "source": []
  },
  {
   "cell_type": "markdown",
   "id": "8583478c",
   "metadata": {},
   "source": [
    "### Representación visual"
   ]
  },
  {
   "cell_type": "code",
   "execution_count": null,
   "id": "7c8dfc0b",
   "metadata": {},
   "outputs": [],
   "source": [
    "\n"
   ]
  }
 ],
 "metadata": {
  "kernelspec": {
   "display_name": "Python 3",
   "language": "python",
   "name": "python3"
  },
  "language_info": {
   "codemirror_mode": {
    "name": "ipython",
    "version": 3
   },
   "file_extension": ".py",
   "mimetype": "text/x-python",
   "name": "python",
   "nbconvert_exporter": "python",
   "pygments_lexer": "ipython3",
   "version": "3.10.2"
  }
 },
 "nbformat": 4,
 "nbformat_minor": 5
}
